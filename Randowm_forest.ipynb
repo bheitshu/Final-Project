{
 "cells": [
  {
   "cell_type": "code",
   "execution_count": 8,
   "metadata": {},
   "outputs": [],
   "source": [
    "# Import our dependencies\n",
    "from sklearn.model_selection import train_test_split\n",
    "from sklearn.preprocessing import StandardScaler,OneHotEncoder\n",
    "import tensorflow as tf\n",
    "\n",
    "#  Import and read the charity_data.csv.\n",
    "#  import pandas as pd \n",
    "#  clean_data_df = pd.read_csv(\"cleaned_data.csv\",index_col=\"Unnamed: 0\")\n",
    "#  clean_data_df.head()\n",
    "\n",
    "\n",
    "import psycopg2\n",
    "import pandas as pds\n",
    "from sqlalchemy import create_engine\n",
    "\n",
    "conn = psycopg2.connect(dbname='postgres', user='postgres', password='bootcamp', host='localhost', port='5432')\n",
    "clean_data_df = pds.read_sql(\"select * from \\\"final_data\\\"\", conn);\n",
    "# clean_data_df.set_index('index')\n",
    "clean_data_df=clean_data_df.drop(['index'], axis=1)"
   ]
  },
  {
   "cell_type": "code",
   "execution_count": 9,
   "metadata": {},
   "outputs": [],
   "source": [
    "from sklearn.ensemble import RandomForestClassifier\n",
    "from sklearn.metrics import confusion_matrix, accuracy_score, classification_report"
   ]
  },
  {
   "cell_type": "code",
   "execution_count": 10,
   "metadata": {},
   "outputs": [
    {
     "data": {
      "text/html": [
       "<div>\n",
       "<style scoped>\n",
       "    .dataframe tbody tr th:only-of-type {\n",
       "        vertical-align: middle;\n",
       "    }\n",
       "\n",
       "    .dataframe tbody tr th {\n",
       "        vertical-align: top;\n",
       "    }\n",
       "\n",
       "    .dataframe thead th {\n",
       "        text-align: right;\n",
       "    }\n",
       "</style>\n",
       "<table border=\"1\" class=\"dataframe\">\n",
       "  <thead>\n",
       "    <tr style=\"text-align: right;\">\n",
       "      <th></th>\n",
       "      <th>training_hours</th>\n",
       "      <th>gender_Female</th>\n",
       "      <th>gender_Male</th>\n",
       "      <th>gender_Other</th>\n",
       "      <th>relevent_experience_Has relevent experience</th>\n",
       "      <th>relevent_experience_No relevent experience</th>\n",
       "      <th>enrolled_university_Full time course</th>\n",
       "      <th>enrolled_university_Part time course</th>\n",
       "      <th>enrolled_university_no_enrollment</th>\n",
       "      <th>education_level_Graduate</th>\n",
       "      <th>...</th>\n",
       "      <th>company_size_500-999</th>\n",
       "      <th>company_size_1000-4999</th>\n",
       "      <th>company_size_5000-9999</th>\n",
       "      <th>company_size_10000+</th>\n",
       "      <th>company_type_Early Stage Startup</th>\n",
       "      <th>company_type_Funded Startup</th>\n",
       "      <th>company_type_NGO</th>\n",
       "      <th>company_type_Public Sector</th>\n",
       "      <th>company_type_Pvt Ltd</th>\n",
       "      <th>company_type_Other</th>\n",
       "    </tr>\n",
       "  </thead>\n",
       "  <tbody>\n",
       "    <tr>\n",
       "      <th>0</th>\n",
       "      <td>47</td>\n",
       "      <td>0</td>\n",
       "      <td>1</td>\n",
       "      <td>0</td>\n",
       "      <td>1</td>\n",
       "      <td>0</td>\n",
       "      <td>0</td>\n",
       "      <td>0</td>\n",
       "      <td>1</td>\n",
       "      <td>0</td>\n",
       "      <td>...</td>\n",
       "      <td>0</td>\n",
       "      <td>0</td>\n",
       "      <td>0</td>\n",
       "      <td>0</td>\n",
       "      <td>0</td>\n",
       "      <td>1</td>\n",
       "      <td>0</td>\n",
       "      <td>0</td>\n",
       "      <td>0</td>\n",
       "      <td>0</td>\n",
       "    </tr>\n",
       "    <tr>\n",
       "      <th>1</th>\n",
       "      <td>8</td>\n",
       "      <td>0</td>\n",
       "      <td>1</td>\n",
       "      <td>0</td>\n",
       "      <td>1</td>\n",
       "      <td>0</td>\n",
       "      <td>0</td>\n",
       "      <td>0</td>\n",
       "      <td>1</td>\n",
       "      <td>1</td>\n",
       "      <td>...</td>\n",
       "      <td>0</td>\n",
       "      <td>0</td>\n",
       "      <td>1</td>\n",
       "      <td>0</td>\n",
       "      <td>0</td>\n",
       "      <td>0</td>\n",
       "      <td>0</td>\n",
       "      <td>0</td>\n",
       "      <td>1</td>\n",
       "      <td>0</td>\n",
       "    </tr>\n",
       "    <tr>\n",
       "      <th>2</th>\n",
       "      <td>18</td>\n",
       "      <td>0</td>\n",
       "      <td>1</td>\n",
       "      <td>0</td>\n",
       "      <td>1</td>\n",
       "      <td>0</td>\n",
       "      <td>0</td>\n",
       "      <td>0</td>\n",
       "      <td>1</td>\n",
       "      <td>0</td>\n",
       "      <td>...</td>\n",
       "      <td>0</td>\n",
       "      <td>0</td>\n",
       "      <td>0</td>\n",
       "      <td>0</td>\n",
       "      <td>0</td>\n",
       "      <td>0</td>\n",
       "      <td>0</td>\n",
       "      <td>0</td>\n",
       "      <td>1</td>\n",
       "      <td>0</td>\n",
       "    </tr>\n",
       "    <tr>\n",
       "      <th>3</th>\n",
       "      <td>46</td>\n",
       "      <td>0</td>\n",
       "      <td>1</td>\n",
       "      <td>0</td>\n",
       "      <td>1</td>\n",
       "      <td>0</td>\n",
       "      <td>0</td>\n",
       "      <td>0</td>\n",
       "      <td>1</td>\n",
       "      <td>0</td>\n",
       "      <td>...</td>\n",
       "      <td>0</td>\n",
       "      <td>0</td>\n",
       "      <td>0</td>\n",
       "      <td>0</td>\n",
       "      <td>0</td>\n",
       "      <td>0</td>\n",
       "      <td>0</td>\n",
       "      <td>0</td>\n",
       "      <td>1</td>\n",
       "      <td>0</td>\n",
       "    </tr>\n",
       "    <tr>\n",
       "      <th>4</th>\n",
       "      <td>108</td>\n",
       "      <td>0</td>\n",
       "      <td>1</td>\n",
       "      <td>0</td>\n",
       "      <td>1</td>\n",
       "      <td>0</td>\n",
       "      <td>0</td>\n",
       "      <td>0</td>\n",
       "      <td>1</td>\n",
       "      <td>1</td>\n",
       "      <td>...</td>\n",
       "      <td>0</td>\n",
       "      <td>0</td>\n",
       "      <td>0</td>\n",
       "      <td>0</td>\n",
       "      <td>0</td>\n",
       "      <td>0</td>\n",
       "      <td>0</td>\n",
       "      <td>0</td>\n",
       "      <td>1</td>\n",
       "      <td>0</td>\n",
       "    </tr>\n",
       "  </tbody>\n",
       "</table>\n",
       "<p>5 rows × 61 columns</p>\n",
       "</div>"
      ],
      "text/plain": [
       "   training_hours  gender_Female  gender_Male  gender_Other  \\\n",
       "0              47              0            1             0   \n",
       "1               8              0            1             0   \n",
       "2              18              0            1             0   \n",
       "3              46              0            1             0   \n",
       "4             108              0            1             0   \n",
       "\n",
       "   relevent_experience_Has relevent experience  \\\n",
       "0                                            1   \n",
       "1                                            1   \n",
       "2                                            1   \n",
       "3                                            1   \n",
       "4                                            1   \n",
       "\n",
       "   relevent_experience_No relevent experience  \\\n",
       "0                                           0   \n",
       "1                                           0   \n",
       "2                                           0   \n",
       "3                                           0   \n",
       "4                                           0   \n",
       "\n",
       "   enrolled_university_Full time course  enrolled_university_Part time course  \\\n",
       "0                                     0                                     0   \n",
       "1                                     0                                     0   \n",
       "2                                     0                                     0   \n",
       "3                                     0                                     0   \n",
       "4                                     0                                     0   \n",
       "\n",
       "   enrolled_university_no_enrollment  education_level_Graduate  ...  \\\n",
       "0                                  1                         0  ...   \n",
       "1                                  1                         1  ...   \n",
       "2                                  1                         0  ...   \n",
       "3                                  1                         0  ...   \n",
       "4                                  1                         1  ...   \n",
       "\n",
       "   company_size_500-999  company_size_1000-4999  company_size_5000-9999  \\\n",
       "0                     0                       0                       0   \n",
       "1                     0                       0                       1   \n",
       "2                     0                       0                       0   \n",
       "3                     0                       0                       0   \n",
       "4                     0                       0                       0   \n",
       "\n",
       "   company_size_10000+  company_type_Early Stage Startup  \\\n",
       "0                    0                                 0   \n",
       "1                    0                                 0   \n",
       "2                    0                                 0   \n",
       "3                    0                                 0   \n",
       "4                    0                                 0   \n",
       "\n",
       "   company_type_Funded Startup  company_type_NGO  company_type_Public Sector  \\\n",
       "0                            1                 0                           0   \n",
       "1                            0                 0                           0   \n",
       "2                            0                 0                           0   \n",
       "3                            0                 0                           0   \n",
       "4                            0                 0                           0   \n",
       "\n",
       "   company_type_Pvt Ltd  company_type_Other  \n",
       "0                     0                   0  \n",
       "1                     1                   0  \n",
       "2                     1                   0  \n",
       "3                     1                   0  \n",
       "4                     1                   0  \n",
       "\n",
       "[5 rows x 61 columns]"
      ]
     },
     "execution_count": 10,
     "metadata": {},
     "output_type": "execute_result"
    }
   ],
   "source": [
    "# define the  feaetures set\n",
    "X=clean_data_df.copy()\n",
    "X=X.drop(\"target\",axis=1)\n",
    "X.head()"
   ]
  },
  {
   "cell_type": "code",
   "execution_count": 11,
   "metadata": {},
   "outputs": [
    {
     "data": {
      "text/plain": [
       "array([0, 0, 1, 1, 0], dtype=int64)"
      ]
     },
     "execution_count": 11,
     "metadata": {},
     "output_type": "execute_result"
    }
   ],
   "source": [
    "# define target set\n",
    "y=clean_data_df[\"target\"].ravel()\n",
    "y[:5]"
   ]
  },
  {
   "cell_type": "code",
   "execution_count": 12,
   "metadata": {},
   "outputs": [],
   "source": [
    "# Splitting into Train and Test sets.\n",
    "X_train, X_test, y_train, y_test = train_test_split(X, y, random_state=78)"
   ]
  },
  {
   "cell_type": "code",
   "execution_count": 13,
   "metadata": {},
   "outputs": [],
   "source": [
    "#Create a StandardScaler instance\n",
    "scaler=StandardScaler()\n",
    "# Fitting the Standard Scaler with the training data.\n",
    "X_scaler = scaler.fit(X_train)\n",
    "# Scaling the data.\n",
    "X_train_scaled = X_scaler.transform(X_train)\n",
    "X_test_scaled = X_scaler.transform(X_test)"
   ]
  },
  {
   "cell_type": "code",
   "execution_count": 14,
   "metadata": {},
   "outputs": [],
   "source": [
    "# Create a random forest classifier.\n",
    "rf_model = RandomForestClassifier(n_estimators=500, random_state=78) \n",
    "\n",
    "# Fitting the model\n",
    "rf_model = rf_model.fit(X_train_scaled, y_train)"
   ]
  },
  {
   "cell_type": "code",
   "execution_count": 15,
   "metadata": {},
   "outputs": [],
   "source": [
    "# Making predictions using the testing data.\n",
    "predictions = rf_model.predict(X_test_scaled)"
   ]
  },
  {
   "cell_type": "code",
   "execution_count": 16,
   "metadata": {},
   "outputs": [
    {
     "data": {
      "text/html": [
       "<div>\n",
       "<style scoped>\n",
       "    .dataframe tbody tr th:only-of-type {\n",
       "        vertical-align: middle;\n",
       "    }\n",
       "\n",
       "    .dataframe tbody tr th {\n",
       "        vertical-align: top;\n",
       "    }\n",
       "\n",
       "    .dataframe thead th {\n",
       "        text-align: right;\n",
       "    }\n",
       "</style>\n",
       "<table border=\"1\" class=\"dataframe\">\n",
       "  <thead>\n",
       "    <tr style=\"text-align: right;\">\n",
       "      <th></th>\n",
       "      <th>Predicted staying</th>\n",
       "      <th>Predicted leaving</th>\n",
       "    </tr>\n",
       "  </thead>\n",
       "  <tbody>\n",
       "    <tr>\n",
       "      <th>Actually staying</th>\n",
       "      <td>839</td>\n",
       "      <td>28</td>\n",
       "    </tr>\n",
       "    <tr>\n",
       "      <th>Actually leaving</th>\n",
       "      <td>128</td>\n",
       "      <td>55</td>\n",
       "    </tr>\n",
       "  </tbody>\n",
       "</table>\n",
       "</div>"
      ],
      "text/plain": [
       "                  Predicted staying  Predicted leaving\n",
       "Actually staying                839                 28\n",
       "Actually leaving                128                 55"
      ]
     },
     "execution_count": 16,
     "metadata": {},
     "output_type": "execute_result"
    }
   ],
   "source": [
    "# Calculating the confusion matrix.\n",
    "cm = confusion_matrix(y_test, predictions)\n",
    "# Create a DataFrame from the confusion matrix.\n",
    "cm_df = pds.DataFrame(\n",
    "    cm, index=[\"Actually staying\", \"Actually leaving\"], columns=[\"Predicted staying\", \"Predicted leaving\"])\n",
    "\n",
    "cm_df"
   ]
  },
  {
   "cell_type": "code",
   "execution_count": 17,
   "metadata": {},
   "outputs": [
    {
     "data": {
      "text/plain": [
       "0.8514285714285714"
      ]
     },
     "execution_count": 17,
     "metadata": {},
     "output_type": "execute_result"
    }
   ],
   "source": [
    "# Calculating the accuracy score.\n",
    "acc_score = accuracy_score(y_test, predictions)\n",
    "acc_score"
   ]
  },
  {
   "cell_type": "code",
   "execution_count": 18,
   "metadata": {},
   "outputs": [
    {
     "name": "stdout",
     "output_type": "stream",
     "text": [
      "Confusion Matrix\n"
     ]
    },
    {
     "data": {
      "text/html": [
       "<div>\n",
       "<style scoped>\n",
       "    .dataframe tbody tr th:only-of-type {\n",
       "        vertical-align: middle;\n",
       "    }\n",
       "\n",
       "    .dataframe tbody tr th {\n",
       "        vertical-align: top;\n",
       "    }\n",
       "\n",
       "    .dataframe thead th {\n",
       "        text-align: right;\n",
       "    }\n",
       "</style>\n",
       "<table border=\"1\" class=\"dataframe\">\n",
       "  <thead>\n",
       "    <tr style=\"text-align: right;\">\n",
       "      <th></th>\n",
       "      <th>Predicted staying</th>\n",
       "      <th>Predicted leaving</th>\n",
       "    </tr>\n",
       "  </thead>\n",
       "  <tbody>\n",
       "    <tr>\n",
       "      <th>Actually staying</th>\n",
       "      <td>839</td>\n",
       "      <td>28</td>\n",
       "    </tr>\n",
       "    <tr>\n",
       "      <th>Actually leaving</th>\n",
       "      <td>128</td>\n",
       "      <td>55</td>\n",
       "    </tr>\n",
       "  </tbody>\n",
       "</table>\n",
       "</div>"
      ],
      "text/plain": [
       "                  Predicted staying  Predicted leaving\n",
       "Actually staying                839                 28\n",
       "Actually leaving                128                 55"
      ]
     },
     "metadata": {},
     "output_type": "display_data"
    },
    {
     "name": "stdout",
     "output_type": "stream",
     "text": [
      "Accuracy Score : 0.8514285714285714\n",
      "Classification Report\n",
      "              precision    recall  f1-score   support\n",
      "\n",
      "           0       0.87      0.97      0.91       867\n",
      "           1       0.66      0.30      0.41       183\n",
      "\n",
      "    accuracy                           0.85      1050\n",
      "   macro avg       0.77      0.63      0.66      1050\n",
      "weighted avg       0.83      0.85      0.83      1050\n",
      "\n"
     ]
    }
   ],
   "source": [
    "# Displaying results\n",
    "print(\"Confusion Matrix\")\n",
    "display(cm_df)\n",
    "print(f\"Accuracy Score : {acc_score}\")\n",
    "print(\"Classification Report\")\n",
    "print(classification_report(y_test, predictions))"
   ]
  },
  {
   "cell_type": "code",
   "execution_count": 19,
   "metadata": {},
   "outputs": [
    {
     "data": {
      "text/plain": [
       "array([0.17398746, 0.01034552, 0.01114553, 0.00196794, 0.01099205,\n",
       "       0.01054756, 0.01042085, 0.00862828, 0.01235344, 0.01703505,\n",
       "       0.01628682, 0.00483375, 0.00237967, 0.00377672, 0.00792278,\n",
       "       0.00266164, 0.00455766, 0.01016914, 0.00313825, 0.01028841,\n",
       "       0.00868949, 0.00867852, 0.00799314, 0.00618404, 0.00987492,\n",
       "       0.00736789, 0.00834143, 0.00276106, 0.00654274, 0.0065954 ,\n",
       "       0.00281321, 0.00904116, 0.00811218, 0.01011221, 0.01000668,\n",
       "       0.00924109, 0.0074037 , 0.00601988, 0.00366145, 0.01751516,\n",
       "       0.01624788, 0.01224673, 0.00701016, 0.00776647, 0.01463174,\n",
       "       0.00792075, 0.28196637, 0.00924435, 0.01424263, 0.01915224,\n",
       "       0.01818645, 0.011447  , 0.01400255, 0.00815456, 0.01723787,\n",
       "       0.00648137, 0.00971509, 0.00841277, 0.00708496, 0.01531786,\n",
       "       0.00313633])"
      ]
     },
     "execution_count": 19,
     "metadata": {},
     "output_type": "execute_result"
    }
   ],
   "source": [
    "# Calculate feature importance in the Random Forest model.\n",
    "importances = rf_model.feature_importances_\n",
    "importances"
   ]
  },
  {
   "cell_type": "code",
   "execution_count": 32,
   "metadata": {},
   "outputs": [
    {
     "data": {
      "text/plain": [
       "[(0.28196636760068716, 'city_development_index'),\n",
       " (0.1739874648744969, 'training_hours'),\n",
       " (0.019152244799776508, 'company_size_50-99'),\n",
       " (0.018186446137087246, 'company_size_100-500'),\n",
       " (0.017515158214309965, 'experience_>20'),\n",
       " (0.017237869156363543, 'company_size_10000+'),\n",
       " (0.01703504909337337, 'education_level_Graduate'),\n",
       " (0.016286818564161695, 'education_level_Masters'),\n",
       " (0.016247881943105606, 'last_new_job_1'),\n",
       " (0.015317861465117355, 'company_type_Pvt Ltd'),\n",
       " (0.014631735075133897, 'last_new_job_>4'),\n",
       " (0.014242628372200037, 'company_size_10/49'),\n",
       " (0.014002550149004428, 'company_size_1000-4999'),\n",
       " (0.012353440607229363, 'enrolled_university_no_enrollment'),\n",
       " (0.012246726224191894, 'last_new_job_2'),\n",
       " (0.01144699720545052, 'company_size_500-999'),\n",
       " (0.011145530210517384, 'gender_Male'),\n",
       " (0.010992045109964975, 'relevent_experience_Has relevent experience'),\n",
       " (0.010547558339002231, 'relevent_experience_No relevent experience'),\n",
       " (0.010420853294262114, 'enrolled_university_Full time course'),\n",
       " (0.010345523186970578, 'gender_Female'),\n",
       " (0.01028840613930802, 'experience_10'),\n",
       " (0.010169142086496635, 'major_discipline_STEM'),\n",
       " (0.010112206460107765, 'experience_5'),\n",
       " (0.01000668337935477, 'experience_6'),\n",
       " (0.009874923905417094, 'experience_15'),\n",
       " (0.009715093068228117, 'company_type_Funded Startup'),\n",
       " (0.009244345025081209, 'company_size_<10'),\n",
       " (0.009241088142758022, 'experience_7'),\n",
       " (0.009041159668410504, 'experience_3'),\n",
       " (0.008689487664208566, 'experience_11'),\n",
       " (0.008678515251949896, 'experience_12'),\n",
       " (0.008628283876919263, 'enrolled_university_Part time course'),\n",
       " (0.008412769888006903, 'company_type_NGO'),\n",
       " (0.00834143195236119, 'experience_17'),\n",
       " (0.008154559494126308, 'company_size_5000-9999'),\n",
       " (0.008112179577758042, 'experience_4'),\n",
       " (0.007993136913517307, 'experience_13'),\n",
       " (0.007922782110365477, 'major_discipline_Humanities'),\n",
       " (0.007920747830821641, 'last_new_job_never'),\n",
       " (0.007766465738887774, 'last_new_job_4'),\n",
       " (0.007403698507707501, 'experience_8'),\n",
       " (0.007367890254433768, 'experience_16'),\n",
       " (0.007084955881442883, 'company_type_Public Sector'),\n",
       " (0.007010161915442545, 'last_new_job_3'),\n",
       " (0.006595399393866459, 'experience_2'),\n",
       " (0.006542742859039926, 'experience_19'),\n",
       " (0.006481367366050596, 'company_type_Early Stage Startup'),\n",
       " (0.006184042523598556, 'experience_14'),\n",
       " (0.006019882142423128, 'experience_9'),\n",
       " (0.004833754391908729, 'education_level_Phd'),\n",
       " (0.004557662207362826, 'major_discipline_Other'),\n",
       " (0.0037767235257345094, 'major_discipline_Business Degree'),\n",
       " (0.0036614538772993966, 'experience_<1'),\n",
       " (0.0031382509958311137, 'experience_1'),\n",
       " (0.003136331627412511, 'company_type_Other'),\n",
       " (0.0028132119308345496, 'experience_20'),\n",
       " (0.002761064519804799, 'experience_18'),\n",
       " (0.0026616431854361595, 'major_discipline_No Major'),\n",
       " (0.0023796657657728687, 'major_discipline_Arts'),\n",
       " (0.0019679393321058647, 'gender_Other')]"
      ]
     },
     "execution_count": 32,
     "metadata": {},
     "output_type": "execute_result"
    }
   ],
   "source": [
    "# We can sort the features by their importance.\n",
    "x=zip(importances,X.columns)\n",
    "sorted(x,reverse=True)\n"
   ]
  }
 ],
 "metadata": {
  "kernelspec": {
   "display_name": "PythonData",
   "language": "python",
   "name": "pythondata"
  },
  "language_info": {
   "codemirror_mode": {
    "name": "ipython",
    "version": 3
   },
   "file_extension": ".py",
   "mimetype": "text/x-python",
   "name": "python",
   "nbconvert_exporter": "python",
   "pygments_lexer": "ipython3",
   "version": "3.7.7"
  }
 },
 "nbformat": 4,
 "nbformat_minor": 4
}
